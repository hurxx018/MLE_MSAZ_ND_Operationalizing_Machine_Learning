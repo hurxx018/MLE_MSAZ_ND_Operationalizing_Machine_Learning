{
 "cells": [
  {
   "cell_type": "markdown",
   "source": [
    "Copyright (c) Microsoft Corporation. All rights reserved.  \n",
    "Licensed under the MIT License."
   ],
   "metadata": {}
  },
  {
   "cell_type": "markdown",
   "source": [
    "![Impressions](https://PixelServer20190423114238.azurewebsites.net/api/impressions/NotebookVM/how-to-use-azureml/machine-learning-pipelines/intro-to-pipelines/aml-pipelines-with-automated-machine-learning-step.png)"
   ],
   "metadata": {}
  },
  {
   "cell_type": "markdown",
   "source": [
    "# Azure Machine Learning Pipeline with AutoMLStep (Udacity Course 2)\n",
    "This notebook demonstrates the use of AutoMLStep in Azure Machine Learning Pipeline."
   ],
   "metadata": {}
  },
  {
   "cell_type": "markdown",
   "source": [
    "## Introduction\n",
    "In this example we showcase how you can use AzureML Dataset to load data for AutoML via AML Pipeline. \n",
    "\n",
    "If you are using an Azure Machine Learning Notebook VM, you are all set. Otherwise, make sure you have executed the [configuration](https://aka.ms/pl-config) before running this notebook.\n",
    "\n",
    "In this notebook you will learn how to:\n",
    "1. Create an `Experiment` in an existing `Workspace`.\n",
    "2. Create or Attach existing AmlCompute to a workspace.\n",
    "3. Define data loading in a `TabularDataset`.\n",
    "4. Configure AutoML using `AutoMLConfig`.\n",
    "5. Use AutoMLStep\n",
    "6. Train the model using AmlCompute\n",
    "7. Explore the results.\n",
    "8. Test the best fitted model."
   ],
   "metadata": {}
  },
  {
   "cell_type": "markdown",
   "source": [
    "## Azure Machine Learning and Pipeline SDK-specific imports"
   ],
   "metadata": {}
  },
  {
   "cell_type": "code",
   "execution_count": null,
   "source": [
    "import logging\r\n",
    "import os\r\n",
    "import csv\r\n",
    "\r\n",
    "from matplotlib import pyplot as plt\r\n",
    "import numpy as np\r\n",
    "import pandas as pd\r\n",
    "from sklearn import datasets\r\n",
    "import pkg_resources\r\n",
    "\r\n",
    "import azureml.core\r\n",
    "from azureml.core.experiment import Experiment\r\n",
    "from azureml.core.workspace import Workspace\r\n",
    "from azureml.train.automl import AutoMLConfig\r\n",
    "from azureml.core.dataset import Dataset\r\n",
    "\r\n",
    "from azureml.pipeline.steps import AutoMLStep\r\n",
    "\r\n",
    "# Check core SDK version number\r\n",
    "print(\"SDK version:\", azureml.core.VERSION)"
   ],
   "outputs": [],
   "metadata": {}
  },
  {
   "cell_type": "markdown",
   "source": [
    "## Initialize Workspace\n",
    "Initialize a workspace object from persisted configuration. Make sure the config file is present at .\\config.json"
   ],
   "metadata": {}
  },
  {
   "cell_type": "code",
   "execution_count": null,
   "source": [
    "ws = Workspace.from_config()\r\n",
    "print(ws.name, ws.resource_group, ws.location, ws.subscription_id, sep = '\\n')"
   ],
   "outputs": [],
   "metadata": {}
  },
  {
   "cell_type": "markdown",
   "source": [
    "## Create an Azure ML experiment\n",
    "Let's create an experiment named \"automlstep-classification\" and a folder to hold the training scripts. The script runs will be recorded under the experiment in Azure.\n",
    "\n",
    "The best practice is to use separate folders for scripts and its dependent files for each step and specify that folder as the `source_directory` for the step. This helps reduce the size of the snapshot created for the step (only the specific folder is snapshotted). Since changes in any files in the `source_directory` would trigger a re-upload of the snapshot, this helps keep the reuse of the step when there are no changes in the `source_directory` of the step.\n",
    "\n",
    "*Udacity Note:* There is no need to create an Azure ML experiment, this needs to re-use the experiment that was already created\n"
   ],
   "metadata": {}
  },
  {
   "cell_type": "code",
   "execution_count": null,
   "source": [
    "# Choose a name for the run history container in the workspace.\r\n",
    "# NOTE: update these to match your existing experiment name\r\n",
    "experiment_name = 'automlstep-classification-1'\r\n",
    "project_folder = './pipeline-project'\r\n",
    "\r\n",
    "experiment = Experiment(ws, experiment_name)\r\n",
    "experiment"
   ],
   "outputs": [],
   "metadata": {}
  },
  {
   "cell_type": "markdown",
   "source": [
    "### Create or Attach an AmlCompute cluster\n",
    "You will need to create a [compute target](https://docs.microsoft.com/azure/machine-learning/service/concept-azure-machine-learning-architecture#compute-target) for your AutoML run. In this tutorial, you get the default `AmlCompute` as your training compute resource.\n",
    "\n",
    "**Udacity Note** There is no need to create a new compute target, it can re-use the previous cluster"
   ],
   "metadata": {}
  },
  {
   "cell_type": "code",
   "execution_count": null,
   "source": [
    "from azureml.core.compute import AmlCompute\r\n",
    "from azureml.core.compute import ComputeTarget\r\n",
    "from azureml.core.compute_target import ComputeTargetException\r\n",
    "\r\n",
    "# NOTE: update the cluster name to match the existing cluster\r\n",
    "# Choose a name for your CPU cluster\r\n",
    "amlcompute_cluster_name = \"auto-ml-1\"\r\n",
    "\r\n",
    "# Verify that cluster does not exist already\r\n",
    "try:\r\n",
    "    compute_target = ComputeTarget(workspace=ws, name=amlcompute_cluster_name)\r\n",
    "    print('Found existing cluster, use it.')\r\n",
    "except ComputeTargetException:\r\n",
    "    compute_config = AmlCompute.provisioning_configuration(vm_size='STANDARD_D2_V2',# for GPU, use \"STANDARD_NC6\"\r\n",
    "                                                           #vm_priority = 'lowpriority', # optional\r\n",
    "                                                           max_nodes=4)\r\n",
    "    compute_target = ComputeTarget.create(ws, amlcompute_cluster_name, compute_config)\r\n",
    "\r\n",
    "compute_target.wait_for_completion(show_output=True, min_node_count = 1, timeout_in_minutes = 10)\r\n",
    "# For a more detailed view of current AmlCompute status, use get_status()."
   ],
   "outputs": [],
   "metadata": {}
  },
  {
   "cell_type": "markdown",
   "source": [
    "## Data\n",
    "\n",
    "**Udacity note:** Make sure the `key` is the same name as the dataset that is uploaded, and that the description matches. If it is hard to find or unknown, loop over the `ws.datasets.keys()` and `print()` them.\n",
    "If it *isn't* found because it was deleted, it can be recreated with the link that has the CSV "
   ],
   "metadata": {}
  },
  {
   "cell_type": "code",
   "execution_count": null,
   "source": [
    "# Try to load the dataset from the Workspace. Otherwise, create it from the file\r\n",
    "# NOTE: update the key to match the dataset name\r\n",
    "found = False\r\n",
    "key = \"BankMarketing Dataset\"\r\n",
    "description_text = \"Bank Marketing DataSet for Udacity Project 2\"\r\n",
    "\r\n",
    "if key in ws.datasets.keys(): \r\n",
    "        found = True\r\n",
    "        dataset = ws.datasets[key] \r\n",
    "\r\n",
    "if not found:\r\n",
    "        # Create AML Dataset and register it into Workspace\r\n",
    "        example_data = 'https://automlsamplenotebookdata.blob.core.windows.net/automl-sample-notebook-data/bankmarketing_train.csv'\r\n",
    "        dataset = Dataset.Tabular.from_delimited_files(example_data)        \r\n",
    "        #Register Dataset in Workspace\r\n",
    "        dataset = dataset.register(workspace=ws,\r\n",
    "                                   name=key,\r\n",
    "                                   description=description_text)\r\n",
    "\r\n",
    "\r\n",
    "df = dataset.to_pandas_dataframe()\r\n",
    "df.describe()"
   ],
   "outputs": [],
   "metadata": {}
  },
  {
   "cell_type": "markdown",
   "source": [
    "### Review the Dataset Result\n",
    "\n",
    "You can peek the result of a TabularDataset at any range using `skip(i)` and `take(j).to_pandas_dataframe()`. Doing so evaluates only `j` records for all the steps in the TabularDataset, which makes it fast even against large datasets.\n",
    "\n",
    "`TabularDataset` objects are composed of a list of transformation steps (optional)."
   ],
   "metadata": {}
  },
  {
   "cell_type": "code",
   "execution_count": null,
   "source": [
    "dataset.take(5).to_pandas_dataframe()"
   ],
   "outputs": [],
   "metadata": {}
  },
  {
   "cell_type": "markdown",
   "source": [
    "## Train\n",
    "This creates a general AutoML settings object.\n",
    "**Udacity notes:** These inputs must match what was used when training in the portal. `label_column_name` has to be `y` for example."
   ],
   "metadata": {}
  },
  {
   "cell_type": "code",
   "execution_count": null,
   "source": [
    "automl_settings = {\r\n",
    "    \"experiment_timeout_minutes\": 20,\r\n",
    "    \"max_concurrent_iterations\": 5,\r\n",
    "    \"primary_metric\" : 'AUC_weighted'\r\n",
    "}\r\n",
    "automl_config = AutoMLConfig(compute_target=compute_target,\r\n",
    "                             task = \"classification\",\r\n",
    "                             training_data=dataset,\r\n",
    "                             label_column_name=\"y\",   \r\n",
    "                             path = project_folder,\r\n",
    "                             enable_early_stopping= True,\r\n",
    "                             featurization= 'auto',\r\n",
    "                             debug_log = \"automl_errors.log\",\r\n",
    "                             **automl_settings\r\n",
    "                            )"
   ],
   "outputs": [],
   "metadata": {}
  },
  {
   "cell_type": "markdown",
   "source": [
    "#### Create Pipeline and AutoMLStep\n",
    "\n",
    "You can define outputs for the AutoMLStep using TrainingOutput."
   ],
   "metadata": {}
  },
  {
   "cell_type": "code",
   "execution_count": null,
   "source": [
    "from azureml.pipeline.core import PipelineData, TrainingOutput\r\n",
    "\r\n",
    "ds = ws.get_default_datastore()\r\n",
    "metrics_output_name = 'metrics_output'\r\n",
    "best_model_output_name = 'best_model_output'\r\n",
    "\r\n",
    "metrics_data = PipelineData(name='metrics_data',\r\n",
    "                           datastore=ds,\r\n",
    "                           pipeline_output_name=metrics_output_name,\r\n",
    "                           training_output=TrainingOutput(type='Metrics'))\r\n",
    "model_data = PipelineData(name='model_data',\r\n",
    "                           datastore=ds,\r\n",
    "                           pipeline_output_name=best_model_output_name,\r\n",
    "                           training_output=TrainingOutput(type='Model'))"
   ],
   "outputs": [],
   "metadata": {}
  },
  {
   "cell_type": "markdown",
   "source": [
    "Create an AutoMLStep."
   ],
   "metadata": {}
  },
  {
   "cell_type": "code",
   "execution_count": null,
   "source": [
    "automl_step = AutoMLStep(\r\n",
    "    name='automl_module',\r\n",
    "    automl_config=automl_config,\r\n",
    "    outputs=[metrics_data, model_data],\r\n",
    "    allow_reuse=True)"
   ],
   "outputs": [],
   "metadata": {
    "tags": [
     "automlstep-remarks-sample1"
    ]
   }
  },
  {
   "cell_type": "code",
   "execution_count": null,
   "source": [
    "from azureml.pipeline.core import Pipeline\r\n",
    "pipeline = Pipeline(\r\n",
    "    description=\"pipeline_with_automlstep\",\r\n",
    "    workspace=ws,    \r\n",
    "    steps=[automl_step])"
   ],
   "outputs": [],
   "metadata": {
    "tags": [
     "automlstep-remarks-sample2"
    ]
   }
  },
  {
   "cell_type": "code",
   "execution_count": null,
   "source": [
    "pipeline_run = experiment.submit(pipeline)"
   ],
   "outputs": [],
   "metadata": {}
  },
  {
   "cell_type": "code",
   "execution_count": null,
   "source": [
    "from azureml.widgets import RunDetails\r\n",
    "RunDetails(pipeline_run).show()"
   ],
   "outputs": [],
   "metadata": {}
  },
  {
   "cell_type": "code",
   "execution_count": null,
   "source": [
    "pipeline_run.wait_for_completion()"
   ],
   "outputs": [],
   "metadata": {}
  },
  {
   "cell_type": "markdown",
   "source": [
    "## Examine Results\n",
    "\n",
    "### Retrieve the metrics of all child runs\n",
    "Outputs of above run can be used as inputs of other steps in pipeline. In this tutorial, we will examine the outputs by retrieve output data and running some tests."
   ],
   "metadata": {}
  },
  {
   "cell_type": "code",
   "execution_count": null,
   "source": [
    "metrics_output = pipeline_run.get_pipeline_output(metrics_output_name)\r\n",
    "num_file_downloaded = metrics_output.download('.', show_progress=True)"
   ],
   "outputs": [],
   "metadata": {}
  },
  {
   "cell_type": "code",
   "execution_count": null,
   "source": [
    "import json\r\n",
    "with open(metrics_output._path_on_datastore) as f:\r\n",
    "    metrics_output_result = f.read()\r\n",
    "    \r\n",
    "deserialized_metrics_output = json.loads(metrics_output_result)\r\n",
    "df = pd.DataFrame(deserialized_metrics_output)\r\n",
    "df"
   ],
   "outputs": [],
   "metadata": {}
  },
  {
   "cell_type": "markdown",
   "source": [
    "### Retrieve the Best Model"
   ],
   "metadata": {}
  },
  {
   "cell_type": "code",
   "execution_count": null,
   "source": [
    "# Retrieve best model from Pipeline Run\r\n",
    "best_model_output = pipeline_run.get_pipeline_output(best_model_output_name)\r\n",
    "num_file_downloaded = best_model_output.download('.', show_progress=True)"
   ],
   "outputs": [],
   "metadata": {}
  },
  {
   "cell_type": "code",
   "execution_count": null,
   "source": [
    "import pickle\r\n",
    "\r\n",
    "with open(best_model_output._path_on_datastore, \"rb\" ) as f:\r\n",
    "    best_model = pickle.load(f)\r\n",
    "best_model"
   ],
   "outputs": [],
   "metadata": {}
  },
  {
   "cell_type": "code",
   "execution_count": null,
   "source": [
    "best_model.steps"
   ],
   "outputs": [],
   "metadata": {}
  },
  {
   "cell_type": "markdown",
   "source": [
    "### Test the Model\n",
    "#### Load Test Data\n",
    "For the test data, it should have the same preparation step as the train data. Otherwise it might get failed at the preprocessing step."
   ],
   "metadata": {}
  },
  {
   "cell_type": "code",
   "execution_count": null,
   "source": [
    "dataset_test = Dataset.Tabular.from_delimited_files(path='https://automlsamplenotebookdata.blob.core.windows.net/automl-sample-notebook-data/bankmarketing_train.csv')\r\n",
    "df_test = dataset_test.to_pandas_dataframe()\r\n",
    "df_test = df_test[pd.notnull(df_test['y'])]\r\n",
    "\r\n",
    "y_test = df_test['y']\r\n",
    "X_test = df_test.drop(['y'], axis=1)"
   ],
   "outputs": [],
   "metadata": {}
  },
  {
   "cell_type": "markdown",
   "source": [
    "#### Testing Our Best Fitted Model\n",
    "\n",
    "We will use confusion matrix to see how our model works."
   ],
   "metadata": {}
  },
  {
   "cell_type": "code",
   "execution_count": null,
   "source": [
    "from sklearn.metrics import confusion_matrix\r\n",
    "ypred = best_model.predict(X_test)\r\n",
    "cm = confusion_matrix(y_test, ypred)"
   ],
   "outputs": [],
   "metadata": {}
  },
  {
   "cell_type": "code",
   "execution_count": null,
   "source": [
    "# Visualize the confusion matrix\r\n",
    "pd.DataFrame(cm).style.background_gradient(cmap='Blues', low=0, high=0.9)"
   ],
   "outputs": [],
   "metadata": {}
  },
  {
   "cell_type": "markdown",
   "source": [
    "## Publish and run from REST endpoint\n",
    "\n",
    "Run the following code to publish the pipeline to your workspace. In your workspace in the portal, you can see metadata for the pipeline including run history and durations. You can also run the pipeline manually from the portal.\n",
    "\n",
    "Additionally, publishing the pipeline enables a REST endpoint to rerun the pipeline from any HTTP library on any platform.\n"
   ],
   "metadata": {}
  },
  {
   "cell_type": "code",
   "execution_count": null,
   "source": [
    "published_pipeline = pipeline_run.publish_pipeline(\r\n",
    "    name=\"Bankmarketing Train\", description=\"Training bankmarketing pipeline\", version=\"1.0\")\r\n",
    "\r\n",
    "published_pipeline\r\n"
   ],
   "outputs": [],
   "metadata": {}
  },
  {
   "cell_type": "markdown",
   "source": [
    "Authenticate once again, to retrieve the `auth_header` so that the endpoint can be used"
   ],
   "metadata": {}
  },
  {
   "cell_type": "code",
   "execution_count": null,
   "source": [
    "from azureml.core.authentication import InteractiveLoginAuthentication\r\n",
    "\r\n",
    "interactive_auth = InteractiveLoginAuthentication()\r\n",
    "auth_header = interactive_auth.get_authentication_header()\r\n",
    "\r\n"
   ],
   "outputs": [],
   "metadata": {}
  },
  {
   "cell_type": "markdown",
   "source": [
    "Get the REST url from the endpoint property of the published pipeline object. You can also find the REST url in your workspace in the portal. Build an HTTP POST request to the endpoint, specifying your authentication header. Additionally, add a JSON payload object with the experiment name and the batch size parameter. As a reminder, the process_count_per_node is passed through to ParallelRunStep because you defined it is defined as a PipelineParameter object in the step configuration.\n",
    "\n",
    "Make the request to trigger the run. Access the Id key from the response dict to get the value of the run id.\n"
   ],
   "metadata": {}
  },
  {
   "cell_type": "code",
   "execution_count": null,
   "source": [
    "import requests\r\n",
    "\r\n",
    "rest_endpoint = published_pipeline.endpoint\r\n",
    "response = requests.post(rest_endpoint, \r\n",
    "                         headers=auth_header, \r\n",
    "                         json={\"ExperimentName\": \"pipeline-rest-endpoint\"}\r\n",
    "                        )"
   ],
   "outputs": [],
   "metadata": {}
  },
  {
   "cell_type": "code",
   "execution_count": null,
   "source": [
    "try:\r\n",
    "    response.raise_for_status()\r\n",
    "except Exception:    \r\n",
    "    raise Exception(\"Received bad response from the endpoint: {}\\n\"\r\n",
    "                    \"Response Code: {}\\n\"\r\n",
    "                    \"Headers: {}\\n\"\r\n",
    "                    \"Content: {}\".format(rest_endpoint, response.status_code, response.headers, response.content))\r\n",
    "\r\n",
    "run_id = response.json().get('Id')\r\n",
    "print('Submitted pipeline run: ', run_id)"
   ],
   "outputs": [],
   "metadata": {}
  },
  {
   "cell_type": "markdown",
   "source": [
    "Use the run id to monitor the status of the new run. This will take another 10-15 min to run and will look similar to the previous pipeline run, so if you don't need to see another pipeline run, you can skip watching the full output."
   ],
   "metadata": {}
  },
  {
   "cell_type": "code",
   "execution_count": null,
   "source": [
    "from azureml.pipeline.core.run import PipelineRun\r\n",
    "from azureml.widgets import RunDetails\r\n",
    "\r\n",
    "published_pipeline_run = PipelineRun(ws.experiments[\"pipeline-rest-endpoint\"], run_id)\r\n",
    "RunDetails(published_pipeline_run).show()"
   ],
   "outputs": [],
   "metadata": {}
  },
  {
   "cell_type": "code",
   "execution_count": null,
   "source": [],
   "outputs": [],
   "metadata": {}
  }
 ],
 "metadata": {
  "authors": [
   {
    "name": "sanpil"
   }
  ],
  "categories": [
   "how-to-use-azureml",
   "machine-learning-pipelines",
   "intro-to-pipelines"
  ],
  "category": "tutorial",
  "compute": [
   "AML Compute"
  ],
  "datasets": [
   "Custom"
  ],
  "deployment": [
   "None"
  ],
  "exclude_from_index": false,
  "framework": [
   "Automated Machine Learning"
  ],
  "friendly_name": "How to use AutoMLStep with AML Pipelines",
  "kernel_info": {
   "name": "python3"
  },
  "kernelspec": {
   "display_name": "Python 3",
   "language": "python",
   "name": "python3"
  },
  "language_info": {
   "codemirror_mode": {
    "name": "ipython",
    "version": 3
   },
   "file_extension": ".py",
   "mimetype": "text/x-python",
   "name": "python",
   "nbconvert_exporter": "python",
   "pygments_lexer": "ipython3",
   "version": "3.8.1"
  },
  "nteract": {
   "version": "nteract-front-end@1.0.0"
  },
  "order_index": 11,
  "star_tag": [
   "featured"
  ],
  "tags": [
   "None"
  ],
  "task": "Demonstrates the use of AutoMLStep"
 },
 "nbformat": 4,
 "nbformat_minor": 2
}